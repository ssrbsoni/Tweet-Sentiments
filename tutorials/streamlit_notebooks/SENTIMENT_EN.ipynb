{
  "nbformat": 4,
  "nbformat_minor": 0,
  "metadata": {
    "colab": {
      "name": "SENTIMENT_EN.ipynb",
      "provenance": [],
      "collapsed_sections": [],
      "include_colab_link": true
    },
    "kernelspec": {
      "name": "python3",
      "display_name": "Python 3"
    }
  },
  "cells": [
    {
      "cell_type": "markdown",
      "metadata": {
        "id": "view-in-github",
        "colab_type": "text"
      },
      "source": [
        "<a href=\"https://colab.research.google.com/github/ssrbsoni/Tweet-Sentiments/blob/main/tutorials/streamlit_notebooks/SENTIMENT_EN.ipynb\" target=\"_parent\"><img src=\"https://colab.research.google.com/assets/colab-badge.svg\" alt=\"Open In Colab\"/></a>"
      ]
    },
    {
      "cell_type": "markdown",
      "metadata": {
        "id": "iqhrT47FOMLd"
      },
      "source": [
        "# **Find sentiment in text**"
      ]
    },
    {
      "cell_type": "markdown",
      "metadata": {
        "id": "koJZnWQNNPD_"
      },
      "source": [
        "## 1. Colab Setup"
      ]
    },
    {
      "cell_type": "code",
      "metadata": {
        "id": "w6o8-g0tEqNz",
        "colab": {
          "base_uri": "https://localhost:8080/"
        },
        "outputId": "8f94efc4-7c50-46d1-e030-496df32373a3"
      },
      "source": [
        "!wget http://setup.johnsnowlabs.com/colab.sh -O - | bash\n",
        "# !bash colab.sh\n",
        "# -p is for pyspark\n",
        "# -s is for spark-nlp\n",
        "# !bash colab.sh -p 3.1.1 -s 3.0.1\n",
        "# by default they are set to the latest"
      ],
      "execution_count": 11,
      "outputs": [
        {
          "output_type": "stream",
          "name": "stdout",
          "text": [
            "--2021-11-16 17:49:03--  http://setup.johnsnowlabs.com/colab.sh\n",
            "Resolving setup.johnsnowlabs.com (setup.johnsnowlabs.com)... 51.158.130.125\n",
            "Connecting to setup.johnsnowlabs.com (setup.johnsnowlabs.com)|51.158.130.125|:80... connected.\n",
            "HTTP request sent, awaiting response... 302 Found\n",
            "Location: https://setup.johnsnowlabs.com/colab.sh [following]\n",
            "--2021-11-16 17:49:04--  https://setup.johnsnowlabs.com/colab.sh\n",
            "Connecting to setup.johnsnowlabs.com (setup.johnsnowlabs.com)|51.158.130.125|:443... connected.\n",
            "HTTP request sent, awaiting response... 302 Moved Temporarily\n",
            "Location: https://raw.githubusercontent.com/JohnSnowLabs/spark-nlp/master/scripts/colab_setup.sh [following]\n",
            "--2021-11-16 17:49:04--  https://raw.githubusercontent.com/JohnSnowLabs/spark-nlp/master/scripts/colab_setup.sh\n",
            "Resolving raw.githubusercontent.com (raw.githubusercontent.com)... 185.199.108.133, 185.199.109.133, 185.199.110.133, ...\n",
            "Connecting to raw.githubusercontent.com (raw.githubusercontent.com)|185.199.108.133|:443... connected.\n",
            "HTTP request sent, awaiting response... 200 OK\n",
            "Length: 1275 (1.2K) [text/plain]\n",
            "Saving to: ‘STDOUT’\n",
            "\n",
            "-                     0%[                    ]       0  --.-KB/s               setup Colab for PySpark 3.0.3 and Spark NLP 3.3.2\n",
            "Installing PySpark 3.0.3 and Spark NLP 3.3.2\n",
            "-                   100%[===================>]   1.25K  --.-KB/s    in 0s      \n",
            "\n",
            "2021-11-16 17:49:04 (69.1 MB/s) - written to stdout [1275/1275]\n",
            "\n"
          ]
        }
      ]
    },
    {
      "cell_type": "code",
      "metadata": {
        "id": "eqNiXvMODQWm",
        "outputId": "ef5dbedb-58b8-4058-cf44-ac64b6d3e275",
        "colab": {
          "base_uri": "https://localhost:8080/"
        }
      },
      "source": [
        "! pip install unidecode wordninja "
      ],
      "execution_count": 85,
      "outputs": [
        {
          "output_type": "stream",
          "name": "stdout",
          "text": [
            "Collecting unidecode\n",
            "  Downloading Unidecode-1.3.2-py3-none-any.whl (235 kB)\n",
            "\u001b[K     |████████████████████████████████| 235 kB 7.4 MB/s \n",
            "\u001b[?25hCollecting wordninja\n",
            "  Downloading wordninja-2.0.0.tar.gz (541 kB)\n",
            "\u001b[K     |████████████████████████████████| 541 kB 34.5 MB/s \n",
            "\u001b[?25hBuilding wheels for collected packages: wordninja\n",
            "  Building wheel for wordninja (setup.py) ... \u001b[?25l\u001b[?25hdone\n",
            "  Created wheel for wordninja: filename=wordninja-2.0.0-py3-none-any.whl size=541551 sha256=e796e7de57e9abe3279ee7639c6733d3dd68af5469b891098dbe70f3ab3240ca\n",
            "  Stored in directory: /root/.cache/pip/wheels/dd/3f/eb/a2692e3d2b9deb1487b09ba4967dd6920bd5032bfd9ff7acfc\n",
            "Successfully built wordninja\n",
            "Installing collected packages: wordninja, unidecode\n",
            "Successfully installed unidecode-1.3.2 wordninja-2.0.0\n"
          ]
        }
      ]
    },
    {
      "cell_type": "code",
      "metadata": {
        "id": "yMmT9S6mE0ad"
      },
      "source": [
        "import pandas as pd\n",
        "import numpy as np\n",
        "import re\n",
        "import unidecode\n",
        "import wordninja\n",
        "import json\n",
        "from pyspark.ml import Pipeline\n",
        "from pyspark.sql import SparkSession\n",
        "import pyspark.sql.functions as F\n",
        "import pyspark.sql.types as T\n",
        "from sparknlp.annotator import *\n",
        "from sparknlp.base import *\n",
        "import sparknlp\n",
        "from sparknlp.pretrained import PretrainedPipeline"
      ],
      "execution_count": 96,
      "outputs": []
    },
    {
      "cell_type": "markdown",
      "metadata": {
        "id": "Z3n4NloINS22"
      },
      "source": [
        "## 2. Start Spark Session"
      ]
    },
    {
      "cell_type": "code",
      "metadata": {
        "id": "4zBXbY_vE2ss"
      },
      "source": [
        "spark = sparknlp.start()"
      ],
      "execution_count": 13,
      "outputs": []
    },
    {
      "cell_type": "code",
      "metadata": {
        "id": "IiYxv0mOFIcX",
        "colab": {
          "base_uri": "https://localhost:8080/"
        },
        "outputId": "7ad8a7c1-2a5e-4b0a-e11a-77de5430454a"
      },
      "source": [
        "document_assembler = DocumentAssembler()\\\n",
        "                        .setInputCol(\"text\")\\\n",
        "                        .setOutputCol(\"document\")\n",
        "encoder = UniversalSentenceEncoder.pretrained(\"tfhub_use\", \"en\")\\\n",
        "                     .setInputCols([\"document\"])\\\n",
        "                     .setOutputCol(\"embeddings\")\n",
        "\n",
        "clf = ClassifierDLApproach()\\\n",
        "          .setInputCols([\"embeddings\"])\\\n",
        "          .setOutputCol(\"prediction\")\\\n",
        "          .setLabelColumn(\"label\")\\\n",
        "          .setMaxEpochs(30)\\\n",
        "          .setBatchSize(32)\n",
        "\n",
        "# Create the pipeline with all the transformers above.\n",
        "pipeline = Pipeline(\n",
        "    stages = [\n",
        "        document_assembler,\n",
        "        encoder,\n",
        "        clf\n",
        "    ])"
      ],
      "execution_count": 106,
      "outputs": [
        {
          "output_type": "stream",
          "name": "stdout",
          "text": [
            "tfhub_use download started this may take some time.\n",
            "Approximate size to download 923.7 MB\n",
            "[OK!]\n"
          ]
        }
      ]
    },
    {
      "cell_type": "code",
      "metadata": {
        "id": "l1vzyzni35mN"
      },
      "source": [
        "trainPath = 'train_twit.csv'\n",
        "testPath = 'test_twit.csv'\n",
        "\n",
        "train_df = pd.read_csv(trainPath)\n",
        "test_df = pd.read_csv(testPath)"
      ],
      "execution_count": 104,
      "outputs": []
    },
    {
      "cell_type": "code",
      "metadata": {
        "id": "NfGOER1XDBJ3"
      },
      "source": [
        "def clean_tweet(text):\n",
        "    \n",
        "    # lower-case all characters\n",
        "    text=text.lower()\n",
        "    \n",
        "    # remove twitter handles\n",
        "    text= re.sub(r'@\\S+', '',text) \n",
        "    \n",
        "    # remove urls\n",
        "    text= re.sub(r'http\\S+', '',text) \n",
        "    text= re.sub(r'pic.\\S+', '',text)\n",
        "      \n",
        "    # replace unidecode characters\n",
        "    text=unidecode.unidecode(text)\n",
        "      \n",
        "    # regex only keeps characters\n",
        "    text= re.sub(r\"[^a-zA-Z+']\", ' ',text)\n",
        "    \n",
        "    # keep words with length>1 only\n",
        "    text=re.sub(r'\\s+[a-zA-Z]\\s+', ' ', text+' ') \n",
        "\n",
        "    # split words like 'whatisthis' to 'what is this'\n",
        "    def preprocess_wordninja(sentence):      \n",
        "        def split_words(x):\n",
        "            x=wordninja.split(x)\n",
        "            x= [word for word in x if len(word)>1]\n",
        "            return x\n",
        "        new_sentence=[ ' '.join(split_words(word)) for word in sentence.split() ]\n",
        "        return ' '.join(new_sentence)\n",
        "    \n",
        "    text=preprocess_wordninja(text)\n",
        "    \n",
        "    # regex removes repeated spaces, strip removes leading and trailing spaces\n",
        "    text= re.sub(\"\\s[\\s]+\", \" \",text).strip()  \n",
        "    \n",
        "    return text"
      ],
      "execution_count": 82,
      "outputs": []
    },
    {
      "cell_type": "code",
      "metadata": {
        "id": "U_EnzK75DBYE"
      },
      "source": [
        "train_df['text']=train_df['tweet'].apply(lambda x: clean_tweet(x))\n",
        "test_df['text']=test_df['tweet'].apply(lambda x: clean_tweet(x))"
      ],
      "execution_count": 105,
      "outputs": []
    },
    {
      "cell_type": "code",
      "metadata": {
        "id": "sXnND9jHCsUe"
      },
      "source": [
        "trainData = spark.createDataFrame(train_df).withColumn(\"label\", F.col(\"label\").cast(T.IntegerType())).select(\"text\", \"label\")\n",
        "testData = spark.createDataFrame(test_df).select(\"id\", \"text\")"
      ],
      "execution_count": 107,
      "outputs": []
    },
    {
      "cell_type": "code",
      "metadata": {
        "colab": {
          "base_uri": "https://localhost:8080/"
        },
        "id": "X7Vk_YPu4ZUO",
        "outputId": "143aa546-265a-4f54-eb39-ac6426a00221"
      },
      "source": [
        "trainData.dtypes"
      ],
      "execution_count": 108,
      "outputs": [
        {
          "output_type": "execute_result",
          "data": {
            "text/plain": [
              "[('text', 'string'), ('label', 'int')]"
            ]
          },
          "metadata": {},
          "execution_count": 108
        }
      ]
    },
    {
      "cell_type": "code",
      "metadata": {
        "id": "3ovPVIrX5FE0"
      },
      "source": [
        "train = trainData.select(\"text\",\"label\")\n",
        "\n",
        "model = pipeline.fit(train)"
      ],
      "execution_count": 109,
      "outputs": []
    },
    {
      "cell_type": "code",
      "metadata": {
        "id": "x7cMhCUX7VYL"
      },
      "source": [
        "final = model.transform(testData)\n",
        "final = final.select(\"id\",\"prediction.result\").toPandas()"
      ],
      "execution_count": 110,
      "outputs": []
    },
    {
      "cell_type": "code",
      "metadata": {
        "id": "J9OKuD2i7esC"
      },
      "source": [
        "final.result = final.result.apply(lambda x: x[0]).astype(int)"
      ],
      "execution_count": 111,
      "outputs": []
    },
    {
      "cell_type": "code",
      "metadata": {
        "id": "1FDRhddr73Ma"
      },
      "source": [
        "sub = final[[\"id\",\"result\"]]\n",
        "sub.columns = [\"id\",\"label\"]\n",
        "sub.to_csv(\"submission_ver1.csv\", index=None)"
      ],
      "execution_count": 113,
      "outputs": []
    },
    {
      "cell_type": "code",
      "metadata": {
        "colab": {
          "base_uri": "https://localhost:8080/",
          "height": 206
        },
        "id": "pH5CsqDh8kqz",
        "outputId": "9767f9ad-38dd-4626-bb21-a5bdec4c3321"
      },
      "source": [
        "sub.head()"
      ],
      "execution_count": 114,
      "outputs": [
        {
          "output_type": "execute_result",
          "data": {
            "text/html": [
              "<div>\n",
              "<style scoped>\n",
              "    .dataframe tbody tr th:only-of-type {\n",
              "        vertical-align: middle;\n",
              "    }\n",
              "\n",
              "    .dataframe tbody tr th {\n",
              "        vertical-align: top;\n",
              "    }\n",
              "\n",
              "    .dataframe thead th {\n",
              "        text-align: right;\n",
              "    }\n",
              "</style>\n",
              "<table border=\"1\" class=\"dataframe\">\n",
              "  <thead>\n",
              "    <tr style=\"text-align: right;\">\n",
              "      <th></th>\n",
              "      <th>id</th>\n",
              "      <th>label</th>\n",
              "    </tr>\n",
              "  </thead>\n",
              "  <tbody>\n",
              "    <tr>\n",
              "      <th>0</th>\n",
              "      <td>7921</td>\n",
              "      <td>1</td>\n",
              "    </tr>\n",
              "    <tr>\n",
              "      <th>1</th>\n",
              "      <td>7922</td>\n",
              "      <td>0</td>\n",
              "    </tr>\n",
              "    <tr>\n",
              "      <th>2</th>\n",
              "      <td>7923</td>\n",
              "      <td>1</td>\n",
              "    </tr>\n",
              "    <tr>\n",
              "      <th>3</th>\n",
              "      <td>7924</td>\n",
              "      <td>0</td>\n",
              "    </tr>\n",
              "    <tr>\n",
              "      <th>4</th>\n",
              "      <td>7925</td>\n",
              "      <td>1</td>\n",
              "    </tr>\n",
              "  </tbody>\n",
              "</table>\n",
              "</div>"
            ],
            "text/plain": [
              "     id  label\n",
              "0  7921      1\n",
              "1  7922      0\n",
              "2  7923      1\n",
              "3  7924      0\n",
              "4  7925      1"
            ]
          },
          "metadata": {},
          "execution_count": 114
        }
      ]
    },
    {
      "cell_type": "code",
      "metadata": {
        "id": "SDuGs0m0CeLT"
      },
      "source": [
        ""
      ],
      "execution_count": null,
      "outputs": []
    }
  ]
}